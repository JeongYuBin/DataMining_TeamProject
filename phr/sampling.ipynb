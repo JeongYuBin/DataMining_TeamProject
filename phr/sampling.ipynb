{
 "cells": [
  {
   "cell_type": "code",
   "execution_count": 7,
   "id": "2e47ed7a",
   "metadata": {},
   "outputs": [],
   "source": [
    "from imblearn.over_sampling import SMOTE, BorderlineSMOTE, ADASYN\n",
    "import numpy as np\n",
    "import pandas as pd\n",
    "from sklearn.model_selection import train_test_split"
   ]
  },
  {
   "cell_type": "code",
   "execution_count": 8,
   "id": "40445661",
   "metadata": {},
   "outputs": [
    {
     "data": {
      "text/plain": [
       "\"\\n# 5:1 비율로 SMOTE 적용하고 저장\\nX_smote, y_smote = apply_oversampling_and_save(X, y, \\n                                              method='smote', \\n                                              target_ratio=0.2,\\n                                              file_name='smote_5to1.csv')\\n\\n# 3:1 비율로 Borderline-SMOTE 적용하고 저장\\nX_border, y_border = apply_oversampling_and_save(X, y, \\n                                                method='borderline_smote', \\n                                                target_ratio=0.33,\\n                                                file_name='borderline_3to1.csv')\\n\""
      ]
     },
     "execution_count": 8,
     "metadata": {},
     "output_type": "execute_result"
    }
   ],
   "source": [
    "def apply_oversampling_and_save(X, y, method='smote', target_ratio=0.5, \n",
    "                               file_name='resampled_data.csv', random_state=42):\n",
    "    \"\"\"\n",
    "    오버샘플링 적용 후 CSV 파일로 저장하는 함수\n",
    "    \n",
    "    Parameters:\n",
    "    -----------\n",
    "    X : DataFrame or array\n",
    "        특성 데이터\n",
    "    y : Series or array\n",
    "        타겟 데이터\n",
    "    method : str\n",
    "        'smote', 'borderline_smote', 'adasyn' 중 선택\n",
    "    target_ratio : float\n",
    "        목표 비율\n",
    "    file_name : str\n",
    "        저장할 파일 이름\n",
    "    \"\"\"\n",
    "    \n",
    "    # 현재 클래스 비율 출력\n",
    "    unique, counts = np.unique(y, return_counts=True)\n",
    "    current_ratio = counts[1] / counts[0]\n",
    "    print(f\"현재 클래스 비율 (minority:majority) = 1:{1/current_ratio:.2f}\")\n",
    "    \n",
    "    # 오버샘플링 방법 선택\n",
    "    if method.lower() == 'smote':\n",
    "        sampler = SMOTE(sampling_strategy=target_ratio, random_state=random_state)\n",
    "    elif method.lower() == 'borderline_smote':\n",
    "        sampler = BorderlineSMOTE(sampling_strategy=target_ratio, random_state=random_state)\n",
    "    elif method.lower() == 'adasyn':\n",
    "        sampler = ADASYN(sampling_strategy=target_ratio, random_state=random_state)\n",
    "    \n",
    "    # 오버샘플링 적용\n",
    "    X_resampled, y_resampled = sampler.fit_resample(X, y)\n",
    "    \n",
    "    # 결과 클래스 비율 출력\n",
    "    unique_new, counts_new = np.unique(y_resampled, return_counts=True)\n",
    "    new_ratio = counts_new[1] / counts_new[0]\n",
    "    print(f\"리샘플링 후 클래스 비율 (minority:majority) = 1:{1/new_ratio:.2f}\")\n",
    "    \n",
    "    # DataFrame으로 변환\n",
    "    if isinstance(X, pd.DataFrame):\n",
    "        resampled_df = pd.DataFrame(X_resampled, columns=X.columns)\n",
    "    else:\n",
    "        resampled_df = pd.DataFrame(X_resampled)\n",
    "    \n",
    "    # 타겟 변수 추가\n",
    "    resampled_df['target'] = y_resampled\n",
    "    \n",
    "    # CSV 파일로 저장\n",
    "    resampled_df.to_csv(file_name, index=False)\n",
    "    print(f\"데이터가 {file_name}으로 저장되었습니다.\")\n",
    "    \n",
    "    return X_resampled, y_resampled\n",
    "\n",
    "# 사용 예시:\n",
    "\"\"\"\n",
    "# 5:1 비율로 SMOTE 적용하고 저장\n",
    "X_smote, y_smote = apply_oversampling_and_save(X, y, \n",
    "                                              method='smote', \n",
    "                                              target_ratio=0.2,\n",
    "                                              file_name='smote_5to1.csv')\n",
    "\n",
    "# 3:1 비율로 Borderline-SMOTE 적용하고 저장\n",
    "X_border, y_border = apply_oversampling_and_save(X, y, \n",
    "                                                method='borderline_smote', \n",
    "                                                target_ratio=0.33,\n",
    "                                                file_name='borderline_3to1.csv')\n",
    "\"\"\""
   ]
  },
  {
   "cell_type": "code",
   "execution_count": 9,
   "id": "7ad32244",
   "metadata": {},
   "outputs": [],
   "source": [
    "df_drop = pd.read_csv('../data1.csv')"
   ]
  },
  {
   "cell_type": "code",
   "execution_count": 11,
   "id": "5f7ac2b4",
   "metadata": {},
   "outputs": [],
   "source": [
    "df_median = pd.read_csv('../data2.csv')"
   ]
  },
  {
   "cell_type": "code",
   "execution_count": null,
   "id": "8c5d99c3",
   "metadata": {},
   "outputs": [],
   "source": []
  }
 ],
 "metadata": {
  "kernelspec": {
   "display_name": "Python 3 (ipykernel)",
   "language": "python",
   "name": "python3"
  },
  "language_info": {
   "codemirror_mode": {
    "name": "ipython",
    "version": 3
   },
   "file_extension": ".py",
   "mimetype": "text/x-python",
   "name": "python",
   "nbconvert_exporter": "python",
   "pygments_lexer": "ipython3",
   "version": "3.9.12"
  }
 },
 "nbformat": 4,
 "nbformat_minor": 5
}
